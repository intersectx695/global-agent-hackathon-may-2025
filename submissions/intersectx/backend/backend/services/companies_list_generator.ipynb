{
 "cells": [
  {
   "cell_type": "code",
   "execution_count": 2,
   "id": "initial_id",
   "metadata": {
    "ExecuteTime": {
     "end_time": "2025-05-14T15:29:42.698784Z",
     "start_time": "2025-05-14T15:29:42.682728Z"
    },
    "collapsed": true,
    "jupyter": {
     "outputs_hidden": true
    }
   },
   "outputs": [],
   "source": []
  },
  {
   "cell_type": "code",
   "execution_count": 3,
   "id": "612b0c0cc8f05d54",
   "metadata": {},
   "outputs": [],
   "source": [
    "import pandas as pd"
   ]
  },
  {
   "cell_type": "code",
   "execution_count": 4,
   "id": "d1374e77-58f6-46fe-935e-0adfbac17e1b",
   "metadata": {},
   "outputs": [
    {
     "name": "stderr",
     "output_type": "stream",
     "text": [
      "/var/folders/gm/7b12y5_j7ps7j7w95bjqkhfc0000gn/T/ipykernel_67725/2722677412.py:1: DtypeWarning: Columns (1,2,3,4,5,6,8,9,10) have mixed types. Specify dtype option on import or set low_memory=False.\n",
      "  df = pd.read_csv('/Users/ashish_kumar/Downloads/companies_list.csv', header=0)\n"
     ]
    }
   ],
   "source": [
    "df = pd.read_csv(\"/Users/ashish_kumar/Downloads/companies_list.csv\", header=0)"
   ]
  },
  {
   "cell_type": "code",
   "execution_count": 5,
   "id": "fd4d7c75-4681-4fe8-a083-f8844fafc6b7",
   "metadata": {},
   "outputs": [
    {
     "data": {
      "text/html": [
       "<div>\n",
       "<style scoped>\n",
       "    .dataframe tbody tr th:only-of-type {\n",
       "        vertical-align: middle;\n",
       "    }\n",
       "\n",
       "    .dataframe tbody tr th {\n",
       "        vertical-align: top;\n",
       "    }\n",
       "\n",
       "    .dataframe thead th {\n",
       "        text-align: right;\n",
       "    }\n",
       "</style>\n",
       "<table border=\"1\" class=\"dataframe\">\n",
       "  <thead>\n",
       "    <tr style=\"text-align: right;\">\n",
       "      <th></th>\n",
       "      <th>handle</th>\n",
       "      <th>name</th>\n",
       "      <th>domain</th>\n",
       "      <th>website</th>\n",
       "      <th>industry</th>\n",
       "      <th>size</th>\n",
       "      <th>type</th>\n",
       "      <th>founded</th>\n",
       "      <th>city</th>\n",
       "      <th>state</th>\n",
       "      <th>country_code</th>\n",
       "    </tr>\n",
       "  </thead>\n",
       "  <tbody>\n",
       "    <tr>\n",
       "      <th>0</th>\n",
       "      <td>company/sh-consults</td>\n",
       "      <td>SH Consulting</td>\n",
       "      <td>NaN</td>\n",
       "      <td>NaN</td>\n",
       "      <td>business consulting and services</td>\n",
       "      <td>1-10</td>\n",
       "      <td>Self-Employed</td>\n",
       "      <td>NaN</td>\n",
       "      <td>Amsterdam</td>\n",
       "      <td>North Holland</td>\n",
       "      <td>NL</td>\n",
       "    </tr>\n",
       "    <tr>\n",
       "      <th>1</th>\n",
       "      <td>company/cactus-&amp;-tropicals-inc.</td>\n",
       "      <td>Cactus &amp; Tropicals, Inc.</td>\n",
       "      <td>NaN</td>\n",
       "      <td>NaN</td>\n",
       "      <td>NaN</td>\n",
       "      <td>1-10</td>\n",
       "      <td>NaN</td>\n",
       "      <td>NaN</td>\n",
       "      <td>NaN</td>\n",
       "      <td>NaN</td>\n",
       "      <td>NaN</td>\n",
       "    </tr>\n",
       "    <tr>\n",
       "      <th>2</th>\n",
       "      <td>company/alex-steel-company</td>\n",
       "      <td>Alex Steel Company</td>\n",
       "      <td>NaN</td>\n",
       "      <td>NaN</td>\n",
       "      <td>wholesale building materials</td>\n",
       "      <td>NaN</td>\n",
       "      <td>NaN</td>\n",
       "      <td>NaN</td>\n",
       "      <td>Vaughan</td>\n",
       "      <td>Ontario</td>\n",
       "      <td>CA</td>\n",
       "    </tr>\n",
       "    <tr>\n",
       "      <th>3</th>\n",
       "      <td>company/via-veneto-boutique</td>\n",
       "      <td>Via Veneto Boutique</td>\n",
       "      <td>NaN</td>\n",
       "      <td>NaN</td>\n",
       "      <td>retail</td>\n",
       "      <td>1-10</td>\n",
       "      <td>Privately Held</td>\n",
       "      <td>NaN</td>\n",
       "      <td>NaN</td>\n",
       "      <td>NaN</td>\n",
       "      <td>NaN</td>\n",
       "    </tr>\n",
       "    <tr>\n",
       "      <th>4</th>\n",
       "      <td>company/sholom-home-west-inc</td>\n",
       "      <td>SHOLOM HOME WEST INC</td>\n",
       "      <td>NaN</td>\n",
       "      <td>NaN</td>\n",
       "      <td>hospitals and health care</td>\n",
       "      <td>201-500</td>\n",
       "      <td>NaN</td>\n",
       "      <td>NaN</td>\n",
       "      <td>Saint Louis Park</td>\n",
       "      <td>Minnesota</td>\n",
       "      <td>US</td>\n",
       "    </tr>\n",
       "  </tbody>\n",
       "</table>\n",
       "</div>"
      ],
      "text/plain": [
       "                            handle                      name domain website  \\\n",
       "0              company/sh-consults             SH Consulting    NaN     NaN   \n",
       "1  company/cactus-&-tropicals-inc.  Cactus & Tropicals, Inc.    NaN     NaN   \n",
       "2       company/alex-steel-company        Alex Steel Company    NaN     NaN   \n",
       "3      company/via-veneto-boutique       Via Veneto Boutique    NaN     NaN   \n",
       "4     company/sholom-home-west-inc      SHOLOM HOME WEST INC    NaN     NaN   \n",
       "\n",
       "                           industry     size            type  founded  \\\n",
       "0  business consulting and services     1-10   Self-Employed      NaN   \n",
       "1                               NaN     1-10             NaN      NaN   \n",
       "2      wholesale building materials      NaN             NaN      NaN   \n",
       "3                            retail     1-10  Privately Held      NaN   \n",
       "4         hospitals and health care  201-500             NaN      NaN   \n",
       "\n",
       "               city          state country_code  \n",
       "0         Amsterdam  North Holland           NL  \n",
       "1               NaN            NaN          NaN  \n",
       "2           Vaughan        Ontario           CA  \n",
       "3               NaN            NaN          NaN  \n",
       "4  Saint Louis Park      Minnesota           US  "
      ]
     },
     "execution_count": 5,
     "metadata": {},
     "output_type": "execute_result"
    }
   ],
   "source": [
    "df.head()"
   ]
  },
  {
   "cell_type": "code",
   "execution_count": 7,
   "id": "b7800eb9-7319-450e-970a-d5ba23f24e53",
   "metadata": {},
   "outputs": [
    {
     "data": {
      "text/plain": [
       "handle          19478833\n",
       "name            17909201\n",
       "domain          12880576\n",
       "website         14364052\n",
       "industry             492\n",
       "size                   8\n",
       "type                  10\n",
       "founded              808\n",
       "city              412273\n",
       "state              41803\n",
       "country_code         272\n",
       "dtype: int64"
      ]
     },
     "execution_count": 7,
     "metadata": {},
     "output_type": "execute_result"
    }
   ],
   "source": [
    "df.nunique()"
   ]
  },
  {
   "cell_type": "code",
   "execution_count": null,
   "id": "d14df39e-0b80-45e4-ba37-d5e5209081d6",
   "metadata": {},
   "outputs": [],
   "source": [
    "df"
   ]
  }
 ],
 "metadata": {
  "kernelspec": {
   "display_name": "Python 3 (ipykernel)",
   "language": "python",
   "name": "python3"
  },
  "language_info": {
   "codemirror_mode": {
    "name": "ipython",
    "version": 3
   },
   "file_extension": ".py",
   "mimetype": "text/x-python",
   "name": "python",
   "nbconvert_exporter": "python",
   "pygments_lexer": "ipython3",
   "version": "3.12.9"
  }
 },
 "nbformat": 4,
 "nbformat_minor": 5
}
